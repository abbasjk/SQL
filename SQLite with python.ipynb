{
 "cells": [
  {
   "cell_type": "markdown",
   "metadata": {},
   "source": [
    "### import sqlite3"
   ]
  },
  {
   "cell_type": "code",
   "execution_count": 1,
   "metadata": {},
   "outputs": [],
   "source": [
    "import sqlite3"
   ]
  },
  {
   "cell_type": "markdown",
   "metadata": {},
   "source": [
    "### Create or connect to exist database"
   ]
  },
  {
   "cell_type": "code",
   "execution_count": 34,
   "metadata": {},
   "outputs": [
    {
     "name": "stdout",
     "output_type": "stream",
     "text": [
      "Database opened\n"
     ]
    }
   ],
   "source": [
    "dbase = sqlite3.connect('Our_data.sqlite') # Open a database File\n",
    "print ('Database opened')"
   ]
  },
  {
   "cell_type": "markdown",
   "metadata": {},
   "source": [
    "### create table inside the data base "
   ]
  },
  {
   "cell_type": "code",
   "execution_count": 35,
   "metadata": {},
   "outputs": [
    {
     "name": "stdout",
     "output_type": "stream",
     "text": [
      "table is created\n"
     ]
    }
   ],
   "source": [
    "dbase.execute('''create table if not exists\n",
    "              employee_records(\n",
    "    ID INT PRIMARY KEY NOT NULL,\n",
    "    NAME TEXT NOT NULL,\n",
    "    DIVISION TEXT NOT NULL,\n",
    "    STARS INT NOT NULL) ''')\n",
    "print('table is created')"
   ]
  },
  {
   "cell_type": "markdown",
   "metadata": {},
   "source": [
    "## Insert values into the table"
   ]
  },
  {
   "cell_type": "code",
   "execution_count": 37,
   "metadata": {},
   "outputs": [
    {
     "name": "stdout",
     "output_type": "stream",
     "text": [
      "insert function is created\n"
     ]
    }
   ],
   "source": [
    "def insert_record(ID,NAME,DIVISION,STARS):  #Create function to make inserttion process easy\n",
    " dbase.execute('''insert into employee_records values (?,?,?,?)''',(ID,NAME,DIVISION,STARS))\n",
    " dbase.commit()\n",
    " print ('Record inserted')\n",
    "print('insert function is created')"
   ]
  },
  {
   "cell_type": "code",
   "execution_count": 41,
   "metadata": {},
   "outputs": [
    {
     "name": "stdout",
     "output_type": "stream",
     "text": [
      "Record inserted\n"
     ]
    }
   ],
   "source": [
    "insert_record(3,\"Ahmed\",\"Driver\",3) #Call the insert function and insert values into the database\n",
    "#Keep in mind ,This process doesnt allow to insert douplicated values into the database !"
   ]
  },
  {
   "cell_type": "markdown",
   "metadata": {},
   "source": [
    "## Reading data from database"
   ]
  },
  {
   "cell_type": "code",
   "execution_count": 45,
   "metadata": {},
   "outputs": [
    {
     "name": "stdout",
     "output_type": "stream",
     "text": [
      "Function for read data is created\n",
      "ID : 1\n",
      "NAME : ALI\n",
      "DIVISION : Engineer\n",
      "STARS : 4\n",
      "\n",
      "ID : 2\n",
      "NAME : Abbas\n",
      "DIVISION : Engineer\n",
      "STARS : 3\n",
      "\n",
      "ID : 3\n",
      "NAME : Ahmed\n",
      "DIVISION : Driver\n",
      "STARS : 3\n",
      "\n"
     ]
    }
   ],
   "source": [
    "def read_data(): #Create function for read data\n",
    "       data = dbase.execute(''' SELECT * FROM employee_records ORDER BY NAME''')\n",
    "       for record in data:\n",
    "        print ('ID : '+str(record[0]))\n",
    "        print ('NAME : '+str(record[1]))\n",
    "        print ('DIVISION : '+str(record[2]))\n",
    "        print ('STARS : '+str(record[3])+'\\n')\n",
    "print('Function for read data is created')\n",
    "read_data()"
   ]
  },
  {
   "cell_type": "markdown",
   "metadata": {},
   "source": [
    "### Close connection to the database"
   ]
  },
  {
   "cell_type": "code",
   "execution_count": 33,
   "metadata": {},
   "outputs": [
    {
     "name": "stdout",
     "output_type": "stream",
     "text": [
      " Database Closed\n"
     ]
    }
   ],
   "source": [
    "dbase.close()\n",
    "print (' Database Closed')"
   ]
  }
 ],
 "metadata": {
  "kernelspec": {
   "display_name": "Python 3",
   "language": "python",
   "name": "python3"
  },
  "language_info": {
   "codemirror_mode": {
    "name": "ipython",
    "version": 3
   },
   "file_extension": ".py",
   "mimetype": "text/x-python",
   "name": "python",
   "nbconvert_exporter": "python",
   "pygments_lexer": "ipython3",
   "version": "3.8.5"
  }
 },
 "nbformat": 4,
 "nbformat_minor": 4
}
